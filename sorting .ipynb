{
 "cells": [
  {
   "cell_type": "code",
   "execution_count": 2,
   "id": "afdea9f0",
   "metadata": {},
   "outputs": [
    {
     "name": "stdout",
     "output_type": "stream",
     "text": [
      "Element is present at index 1\n"
     ]
    }
   ],
   "source": [
    "# Binary Search in python\n",
    "def binarySearch(array, x, low, high):\n",
    "\n",
    "    # Repeat until the pointers low and high meet each other\n",
    "    while low <= high:\n",
    "\n",
    "        mid = low + (high - low)//2\n",
    "\n",
    "        if array[mid] == x:\n",
    "            return mid\n",
    "\n",
    "        elif array[mid] < x:\n",
    "            low = mid + 1\n",
    "\n",
    "        else:\n",
    "            high = mid - 1\n",
    "\n",
    "    return -1\n",
    "\n",
    "array = [3, 4, 5, 6, 7, 8, 9]\n",
    "x = 4\n",
    "\n",
    "result = binarySearch(array, x, 0, len(array)-1)\n",
    "\n",
    "if result != -1:\n",
    "    print(\"Element is present at index \" + str(result))\n",
    "else:\n",
    "    print(\"Not found\")"
   ]
  },
  {
   "cell_type": "code",
   "execution_count": 1,
   "id": "c07a0159",
   "metadata": {},
   "outputs": [
    {
     "name": "stdout",
     "output_type": "stream",
     "text": [
      "Given array is\n",
      "12 11 13 5 6 7 \n",
      "\n",
      "Sorted array is\n",
      "5 6 7 11 12 13 "
     ]
    }
   ],
   "source": [
    "def merge(arr, l, m, r):\n",
    "    n1 = m - l + 1\n",
    "    n2 = r - m\n",
    " \n",
    "    # create temp arrays\n",
    "    L = [0] * (n1)\n",
    "    R = [0] * (n2)\n",
    " \n",
    "    # Copy data to temp arrays L[] and R[]\n",
    "    for i in range(0, n1):\n",
    "        L[i] = arr[l + i]\n",
    " \n",
    "    for j in range(0, n2):\n",
    "        R[j] = arr[m + 1 + j]\n",
    " \n",
    "    # Merge the temp arrays back into arr[l..r]\n",
    "    i = 0     # Initial index of first subarray\n",
    "    j = 0     # Initial index of second subarray\n",
    "    k = l     # Initial index of merged subarray\n",
    " \n",
    "    while i < n1 and j < n2:\n",
    "        if L[i] <= R[j]:\n",
    "            arr[k] = L[i]\n",
    "            i += 1\n",
    "        else:\n",
    "            arr[k] = R[j]\n",
    "            j += 1\n",
    "        k += 1\n",
    " \n",
    "    # Copy the remaining elements of L[], if there\n",
    "    # are any\n",
    "    while i < n1:\n",
    "        arr[k] = L[i]\n",
    "        i += 1\n",
    "        k += 1\n",
    " \n",
    "    # Copy the remaining elements of R[], if there\n",
    "    # are any\n",
    "    while j < n2:\n",
    "        arr[k] = R[j]\n",
    "        j += 1\n",
    "        k += 1\n",
    " \n",
    "# l is for left index and r is right index of the\n",
    "# sub-array of arr to be sorted\n",
    " \n",
    " \n",
    "def mergeSort(arr, l, r):\n",
    "    if l < r:\n",
    " \n",
    "        # Same as (l+r)//2, but avoids overflow for\n",
    "        # large l and h\n",
    "        m = l+(r-l)//2\n",
    " \n",
    "        # Sort first and second halves\n",
    "        mergeSort(arr, l, m)\n",
    "        mergeSort(arr, m+1, r)\n",
    "        merge(arr, l, m, r)\n",
    " \n",
    " \n",
    "# Driver code to test above\n",
    "arr = [12, 11, 13, 5, 6, 7]\n",
    "n = len(arr)\n",
    "print(\"Given array is\")\n",
    "for i in range(n):\n",
    "    print(\"%d\" % arr[i],end=\" \")\n",
    " \n",
    "mergeSort(arr, 0, n-1)\n",
    "print(\"\\n\\nSorted array is\")\n",
    "for i in range(n):\n",
    "    print(\"%d\" % arr[i],end=\" \")"
   ]
  },
  {
   "cell_type": "code",
   "execution_count": 3,
   "id": "481817b3",
   "metadata": {},
   "outputs": [
    {
     "name": "stdout",
     "output_type": "stream",
     "text": [
      "Unsorted Array\n",
      "[8, 7, 2, 1, 0, 9, 6]\n",
      "Sorted Array in Ascending Order:\n",
      "[0, 1, 2, 6, 7, 8, 9]\n"
     ]
    }
   ],
   "source": [
    "# Quick sort in Python\n",
    "\n",
    "# function to find the partition position\n",
    "def partition(array, low, high):\n",
    "\n",
    "  # choose the rightmost element as pivot\n",
    "  pivot = array[high]\n",
    "\n",
    "  # pointer for greater element\n",
    "  i = low - 1\n",
    "\n",
    "  # traverse through all elements\n",
    "  # compare each element with pivot\n",
    "  for j in range(low, high):\n",
    "    if array[j] <= pivot:\n",
    "      # if element smaller than pivot is found\n",
    "      # swap it with the greater element pointed by i\n",
    "      i = i + 1\n",
    "\n",
    "      # swapping element at i with element at j\n",
    "      (array[i], array[j]) = (array[j], array[i])\n",
    "\n",
    "  # swap the pivot element with the greater element specified by i\n",
    "  (array[i + 1], array[high]) = (array[high], array[i + 1])\n",
    "\n",
    "  # return the position from where partition is done\n",
    "  return i + 1\n",
    "\n",
    "# function to perform quicksort\n",
    "def quickSort(array, low, high):\n",
    "  if low < high:\n",
    "\n",
    "    # find pivot element such that\n",
    "    # element smaller than pivot are on the left\n",
    "    # element greater than pivot are on the right\n",
    "    pi = partition(array, low, high)\n",
    "\n",
    "    # recursive call on the left of pivot\n",
    "    quickSort(array, low, pi - 1)\n",
    "\n",
    "    # recursive call on the right of pivot\n",
    "    quickSort(array, pi + 1, high)\n",
    "\n",
    "\n",
    "data = [8, 7, 2, 1, 0, 9, 6]\n",
    "print(\"Unsorted Array\")\n",
    "print(data)\n",
    "\n",
    "size = len(data)\n",
    "\n",
    "quickSort(data, 0, size - 1)\n",
    "\n",
    "print('Sorted Array in Ascending Order:')\n",
    "print(data)"
   ]
  },
  {
   "cell_type": "code",
   "execution_count": 4,
   "id": "baaf7b56",
   "metadata": {},
   "outputs": [
    {
     "name": "stdout",
     "output_type": "stream",
     "text": [
      "Sorted Array in Ascending Order:\n",
      "[1, 3, 4, 5, 9]\n"
     ]
    }
   ],
   "source": [
    "# Insertion sort in Python\n",
    "\n",
    "\n",
    "def insertionSort(array):\n",
    "\n",
    "    for step in range(1, len(array)):\n",
    "        key = array[step]\n",
    "        j = step - 1\n",
    "        \n",
    "        # Compare key with each element on the left of it until an element smaller than it is found\n",
    "        # For descending order, change key<array[j] to key>array[j].        \n",
    "        while j >= 0 and key < array[j]:\n",
    "            array[j + 1] = array[j]\n",
    "            j = j - 1\n",
    "        \n",
    "        # Place key at after the element just smaller than it.\n",
    "        array[j + 1] = key\n",
    "\n",
    "\n",
    "data = [9, 5, 1, 4, 3]\n",
    "insertionSort(data)\n",
    "print('Sorted Array in Ascending Order:')\n",
    "print(data)"
   ]
  },
  {
   "cell_type": "code",
   "execution_count": 5,
   "id": "667b22f2",
   "metadata": {},
   "outputs": [
    {
     "name": "stdout",
     "output_type": "stream",
     "text": [
      "['apple', 'banana', 'custard apple', 'dragonfruit']\n"
     ]
    }
   ],
   "source": [
    "#wap to sort strings\n",
    "l=['banana','custard apple','apple','dragonfruit']\n",
    "l.sort()\n",
    "print(l)"
   ]
  },
  {
   "cell_type": "code",
   "execution_count": null,
   "id": "deb81816",
   "metadata": {},
   "outputs": [],
   "source": []
  }
 ],
 "metadata": {
  "kernelspec": {
   "display_name": "Python 3 (ipykernel)",
   "language": "python",
   "name": "python3"
  },
  "language_info": {
   "codemirror_mode": {
    "name": "ipython",
    "version": 3
   },
   "file_extension": ".py",
   "mimetype": "text/x-python",
   "name": "python",
   "nbconvert_exporter": "python",
   "pygments_lexer": "ipython3",
   "version": "3.9.7"
  }
 },
 "nbformat": 4,
 "nbformat_minor": 5
}
